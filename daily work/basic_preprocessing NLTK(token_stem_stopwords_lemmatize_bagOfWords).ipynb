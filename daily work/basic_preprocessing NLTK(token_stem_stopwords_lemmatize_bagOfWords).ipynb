{
 "cells": [
  {
   "cell_type": "code",
   "execution_count": 29,
   "metadata": {},
   "outputs": [],
   "source": [
    "import nltk\n",
    "paragraph= \"\"\" Narendra Damodardas Modi (Gujarati: [ˈnəɾendɾə dɑmodəɾˈdɑs ˈmodiː] (listen); born 17 September 1950)[b] is an Indian politician who has served as the 14th Prime Minister of India since May 2014. Modi was the Chief Minister of Gujarat from 2001 to 2014 and is the Member of Parliament (MP) for Varanasi. He is a member of the Bharatiya Janata Party (BJP) and of the Rashtriya Swayamsevak Sangh (RSS), a right-wing Hindu nationalist paramilitary volunteer organisation. He is the longest-serving prime minister from outside the Indian National Congress.Modi was born and raised in Vadnagar in northeastern Gujarat, where he completed his secondary education. He was introduced to the RSS at age eight. His account of helping his father sell tea at the Vadnagar railway station has not been reliably corroborated. At age 18, he was married to Jashodaben Modi, whom he abandoned soon after, only publicly acknowledging her four decades later when legally required to do so. Modi became a full-time worker for the RSS in Gujarat in 1971. After the state of emergency was declared by Prime Minister Indira Gandhi in 1975, he went into hiding. The RSS assigned him to the BJP in 1985 and he held several positions within the party hierarchy until 2001, rising to the rank of general secretary.[c]\"\"\"\n"
   ]
  },
  {
   "cell_type": "code",
   "execution_count": 30,
   "metadata": {},
   "outputs": [
    {
     "name": "stdout",
     "output_type": "stream",
     "text": [
      " Narendra Damodardas Modi (Gujarati: [ˈnəɾendɾə dɑmodəɾˈdɑs ˈmodiː] (listen); born 17 September 1950)[b] is an Indian politician who has served as the 14th Prime Minister of India since May 2014. Modi was the Chief Minister of Gujarat from 2001 to 2014 and is the Member of Parliament (MP) for Varanasi. He is a member of the Bharatiya Janata Party (BJP) and of the Rashtriya Swayamsevak Sangh (RSS), a right-wing Hindu nationalist paramilitary volunteer organisation. He is the longest-serving prime minister from outside the Indian National Congress.Modi was born and raised in Vadnagar in northeastern Gujarat, where he completed his secondary education. He was introduced to the RSS at age eight. His account of helping his father sell tea at the Vadnagar railway station has not been reliably corroborated. At age 18, he was married to Jashodaben Modi, whom he abandoned soon after, only publicly acknowledging her four decades later when legally required to do so. Modi became a full-time worker for the RSS in Gujarat in 1971. After the state of emergency was declared by Prime Minister Indira Gandhi in 1975, he went into hiding. The RSS assigned him to the BJP in 1985 and he held several positions within the party hierarchy until 2001, rising to the rank of general secretary.[c]\n"
     ]
    }
   ],
   "source": [
    "print(paragraph)"
   ]
  },
  {
   "cell_type": "code",
   "execution_count": 31,
   "metadata": {},
   "outputs": [],
   "source": [
    "import nltk\n",
    "from nltk.stem import PorterStemmer\n",
    "from nltk.corpus import stopwords"
   ]
  },
  {
   "cell_type": "code",
   "execution_count": 32,
   "metadata": {},
   "outputs": [
    {
     "name": "stderr",
     "output_type": "stream",
     "text": [
      "[nltk_data] Downloading package punkt to\n",
      "[nltk_data]     C:\\Users\\NIKITA_PC\\AppData\\Roaming\\nltk_data...\n",
      "[nltk_data]   Package punkt is already up-to-date!\n"
     ]
    }
   ],
   "source": [
    "# tokenization-paragraph into words\n",
    "nltk.download('punkt') #  for toknizaton we need to download this\n",
    "sentences=nltk.sent_tokenize(paragraph)# tokenize the sentence"
   ]
  },
  {
   "cell_type": "code",
   "execution_count": 33,
   "metadata": {},
   "outputs": [
    {
     "name": "stdout",
     "output_type": "stream",
     "text": [
      "[' Narendra Damodardas Modi (Gujarati: [ˈnəɾendɾə dɑmodəɾˈdɑs ˈmodiː] (listen); born 17 September 1950)[b] is an Indian politician who has served as the 14th Prime Minister of India since May 2014.', 'Modi was the Chief Minister of Gujarat from 2001 to 2014 and is the Member of Parliament (MP) for Varanasi.', 'He is a member of the Bharatiya Janata Party (BJP) and of the Rashtriya Swayamsevak Sangh (RSS), a right-wing Hindu nationalist paramilitary volunteer organisation.', 'He is the longest-serving prime minister from outside the Indian National Congress.Modi was born and raised in Vadnagar in northeastern Gujarat, where he completed his secondary education.', 'He was introduced to the RSS at age eight.', 'His account of helping his father sell tea at the Vadnagar railway station has not been reliably corroborated.', 'At age 18, he was married to Jashodaben Modi, whom he abandoned soon after, only publicly acknowledging her four decades later when legally required to do so.', 'Modi became a full-time worker for the RSS in Gujarat in 1971.', 'After the state of emergency was declared by Prime Minister Indira Gandhi in 1975, he went into hiding.', 'The RSS assigned him to the BJP in 1985 and he held several positions within the party hierarchy until 2001, rising to the rank of general secretary.', '[c]']\n"
     ]
    }
   ],
   "source": [
    "print(sentences)"
   ]
  },
  {
   "cell_type": "code",
   "execution_count": 34,
   "metadata": {},
   "outputs": [],
   "source": [
    "stemmer = PorterStemmer()\n"
   ]
  },
  {
   "cell_type": "code",
   "execution_count": 35,
   "metadata": {},
   "outputs": [
    {
     "data": {
      "text/plain": [
       "'think'"
      ]
     },
     "execution_count": 35,
     "metadata": {},
     "output_type": "execute_result"
    }
   ],
   "source": [
    "stemmer.stem('thinking')\n"
   ]
  },
  {
   "cell_type": "code",
   "execution_count": 36,
   "metadata": {},
   "outputs": [
    {
     "data": {
      "text/plain": [
       "'histori'"
      ]
     },
     "execution_count": 36,
     "metadata": {},
     "output_type": "execute_result"
    }
   ],
   "source": [
    "stemmer.stem('history')"
   ]
  },
  {
   "cell_type": "code",
   "execution_count": 37,
   "metadata": {},
   "outputs": [],
   "source": [
    "from nltk.stem import WordNetLemmatizer"
   ]
  },
  {
   "cell_type": "code",
   "execution_count": 39,
   "metadata": {},
   "outputs": [
    {
     "name": "stderr",
     "output_type": "stream",
     "text": [
      "[nltk_data] Downloading package wordnet to\n",
      "[nltk_data]     C:\\Users\\NIKITA_PC\\AppData\\Roaming\\nltk_data...\n"
     ]
    },
    {
     "data": {
      "text/plain": [
       "True"
      ]
     },
     "execution_count": 39,
     "metadata": {},
     "output_type": "execute_result"
    }
   ],
   "source": [
    "nltk.download('wordnet')"
   ]
  },
  {
   "cell_type": "code",
   "execution_count": 44,
   "metadata": {},
   "outputs": [
    {
     "data": {
      "text/plain": [
       "'went'"
      ]
     },
     "execution_count": 44,
     "metadata": {},
     "output_type": "execute_result"
    }
   ],
   "source": [
    "lemmatizer=WordNetLemmatizer()\n",
    "lemmatizer.lemmatize('went')"
   ]
  },
  {
   "cell_type": "code",
   "execution_count": 45,
   "metadata": {},
   "outputs": [
    {
     "data": {
      "text/plain": [
       "11"
      ]
     },
     "execution_count": 45,
     "metadata": {},
     "output_type": "execute_result"
    }
   ],
   "source": [
    "len(sentences)"
   ]
  },
  {
   "cell_type": "code",
   "execution_count": 46,
   "metadata": {},
   "outputs": [],
   "source": [
    "import re"
   ]
  },
  {
   "cell_type": "code",
   "execution_count": 49,
   "metadata": {},
   "outputs": [
    {
     "name": "stdout",
     "output_type": "stream",
     "text": [
      "[' Narendra Damodardas Modi  Gujarati    n  end   d mod   d s  modi    listen   born    September       b  is an Indian politician who has served as the   th Prime Minister of India since May      ', 'Modi was the Chief Minister of Gujarat from      to      and is the Member of Parliament  MP  for Varanasi ', 'He is a member of the Bharatiya Janata Party  BJP  and of the Rashtriya Swayamsevak Sangh  RSS   a right wing Hindu nationalist paramilitary volunteer organisation ', 'He is the longest serving prime minister from outside the Indian National Congress Modi was born and raised in Vadnagar in northeastern Gujarat  where he completed his secondary education ', 'He was introduced to the RSS at age eight ', 'His account of helping his father sell tea at the Vadnagar railway station has not been reliably corroborated ', 'At age     he was married to Jashodaben Modi  whom he abandoned soon after  only publicly acknowledging her four decades later when legally required to do so ', 'Modi became a full time worker for the RSS in Gujarat in      ', 'After the state of emergency was declared by Prime Minister Indira Gandhi in       he went into hiding ', 'The RSS assigned him to the BJP in      and he held several positions within the party hierarchy until       rising to the rank of general secretary ', ' c ']\n"
     ]
    }
   ],
   "source": [
    "corpus=[]\n",
    "for i in range(len(sentences)):\n",
    "    text=re.sub('[^A-Za-z]',' ',sentences[i])\n",
    "    text.lower()\n",
    "    corpus.append(text)\n",
    "\n",
    "print(corpus)"
   ]
  },
  {
   "cell_type": "code",
   "execution_count": 57,
   "metadata": {},
   "outputs": [],
   "source": [
    "for i in corpus:\n",
    "    for word in i:\n",
    "        stemmer.stem\n",
    "       "
   ]
  },
  {
   "cell_type": "code",
   "execution_count": 60,
   "metadata": {},
   "outputs": [
    {
     "name": "stderr",
     "output_type": "stream",
     "text": [
      "[nltk_data] Downloading package stopwords to\n",
      "[nltk_data]     C:\\Users\\NIKITA_PC\\AppData\\Roaming\\nltk_data...\n",
      "[nltk_data]   Unzipping corpora\\stopwords.zip.\n"
     ]
    },
    {
     "data": {
      "text/plain": [
       "True"
      ]
     },
     "execution_count": 60,
     "metadata": {},
     "output_type": "execute_result"
    }
   ],
   "source": [
    "nltk.download('stopwords')"
   ]
  },
  {
   "cell_type": "code",
   "execution_count": 61,
   "metadata": {},
   "outputs": [
    {
     "name": "stdout",
     "output_type": "stream",
     "text": [
      "narendra\n",
      "damodarda\n",
      "modi\n",
      "gujarati\n",
      "n\n",
      "end\n",
      "mod\n",
      "modi\n",
      "listen\n",
      "born\n",
      "septemb\n",
      "b\n",
      "indian\n",
      "politician\n",
      "serv\n",
      "th\n",
      "prime\n",
      "minist\n",
      "india\n",
      "sinc\n",
      "may\n",
      "modi\n",
      "chief\n",
      "minist\n",
      "gujarat\n",
      "member\n",
      "parliament\n",
      "mp\n",
      "varanasi\n",
      "he\n",
      "member\n",
      "bharatiya\n",
      "janata\n",
      "parti\n",
      "bjp\n",
      "rashtriya\n",
      "swayamsevak\n",
      "sangh\n",
      "rss\n",
      "right\n",
      "wing\n",
      "hindu\n",
      "nationalist\n",
      "paramilitari\n",
      "volunt\n",
      "organis\n",
      "he\n",
      "longest\n",
      "serv\n",
      "prime\n",
      "minist\n",
      "outsid\n",
      "indian\n",
      "nation\n",
      "congress\n",
      "modi\n",
      "born\n",
      "rais\n",
      "vadnagar\n",
      "northeastern\n",
      "gujarat\n",
      "complet\n",
      "secondari\n",
      "educ\n",
      "he\n",
      "introduc\n",
      "rss\n",
      "age\n",
      "eight\n",
      "hi\n",
      "account\n",
      "help\n",
      "father\n",
      "sell\n",
      "tea\n",
      "vadnagar\n",
      "railway\n",
      "station\n",
      "reliabl\n",
      "corrobor\n",
      "at\n",
      "age\n",
      "marri\n",
      "jashodaben\n",
      "modi\n",
      "abandon\n",
      "soon\n",
      "publicli\n",
      "acknowledg\n",
      "four\n",
      "decad\n",
      "later\n",
      "legal\n",
      "requir\n",
      "modi\n",
      "becam\n",
      "full\n",
      "time\n",
      "worker\n",
      "rss\n",
      "gujarat\n",
      "after\n",
      "state\n",
      "emerg\n",
      "declar\n",
      "prime\n",
      "minist\n",
      "indira\n",
      "gandhi\n",
      "went\n",
      "hide\n",
      "the\n",
      "rss\n",
      "assign\n",
      "bjp\n",
      "held\n",
      "sever\n",
      "posit\n",
      "within\n",
      "parti\n",
      "hierarchi\n",
      "rise\n",
      "rank\n",
      "gener\n",
      "secretari\n",
      "c\n"
     ]
    }
   ],
   "source": [
    "for i in corpus:\n",
    "    words=nltk.word_tokenize(i)\n",
    "    for word in words:\n",
    "        if word not in set(stopwords.words('english')):\n",
    "            print(stemmer.stem(word))"
   ]
  },
  {
   "cell_type": "code",
   "execution_count": 62,
   "metadata": {},
   "outputs": [
    {
     "name": "stdout",
     "output_type": "stream",
     "text": [
      "Narendra\n",
      "Damodardas\n",
      "Modi\n",
      "Gujarati\n",
      "n\n",
      "end\n",
      "mod\n",
      "modi\n",
      "listen\n",
      "born\n",
      "September\n",
      "b\n",
      "Indian\n",
      "politician\n",
      "served\n",
      "th\n",
      "Prime\n",
      "Minister\n",
      "India\n",
      "since\n",
      "May\n",
      "Modi\n",
      "Chief\n",
      "Minister\n",
      "Gujarat\n",
      "Member\n",
      "Parliament\n",
      "MP\n",
      "Varanasi\n",
      "He\n",
      "member\n",
      "Bharatiya\n",
      "Janata\n",
      "Party\n",
      "BJP\n",
      "Rashtriya\n",
      "Swayamsevak\n",
      "Sangh\n",
      "RSS\n",
      "right\n",
      "wing\n",
      "Hindu\n",
      "nationalist\n",
      "paramilitary\n",
      "volunteer\n",
      "organisation\n",
      "He\n",
      "longest\n",
      "serving\n",
      "prime\n",
      "minister\n",
      "outside\n",
      "Indian\n",
      "National\n",
      "Congress\n",
      "Modi\n",
      "born\n",
      "raised\n",
      "Vadnagar\n",
      "northeastern\n",
      "Gujarat\n",
      "completed\n",
      "secondary\n",
      "education\n",
      "He\n",
      "introduced\n",
      "RSS\n",
      "age\n",
      "eight\n",
      "His\n",
      "account\n",
      "helping\n",
      "father\n",
      "sell\n",
      "tea\n",
      "Vadnagar\n",
      "railway\n",
      "station\n",
      "reliably\n",
      "corroborated\n",
      "At\n",
      "age\n",
      "married\n",
      "Jashodaben\n",
      "Modi\n",
      "abandoned\n",
      "soon\n",
      "publicly\n",
      "acknowledging\n",
      "four\n",
      "decade\n",
      "later\n",
      "legally\n",
      "required\n",
      "Modi\n",
      "became\n",
      "full\n",
      "time\n",
      "worker\n",
      "RSS\n",
      "Gujarat\n",
      "After\n",
      "state\n",
      "emergency\n",
      "declared\n",
      "Prime\n",
      "Minister\n",
      "Indira\n",
      "Gandhi\n",
      "went\n",
      "hiding\n",
      "The\n",
      "RSS\n",
      "assigned\n",
      "BJP\n",
      "held\n",
      "several\n",
      "position\n",
      "within\n",
      "party\n",
      "hierarchy\n",
      "rising\n",
      "rank\n",
      "general\n",
      "secretary\n",
      "c\n"
     ]
    }
   ],
   "source": [
    "for i in corpus:\n",
    "    words=nltk.word_tokenize(i)\n",
    "    for word in words:\n",
    "        if word not in set(stopwords.words('english')):\n",
    "            print(lemmatizer.lemmatize(word))"
   ]
  },
  {
   "cell_type": "code",
   "execution_count": 63,
   "metadata": {},
   "outputs": [],
   "source": [
    "from sklearn.feature_extraction.text import CountVectorizer\n",
    "cv=CountVectorizer()\n"
   ]
  },
  {
   "cell_type": "code",
   "execution_count": 67,
   "metadata": {},
   "outputs": [],
   "source": [
    "x=cv.fit_transform(corpus)"
   ]
  },
  {
   "cell_type": "code",
   "execution_count": 68,
   "metadata": {},
   "outputs": [
    {
     "data": {
      "text/plain": [
       "{'narendra': 67,\n",
       " 'damodardas': 20,\n",
       " 'modi': 65,\n",
       " 'gujarati': 36,\n",
       " 'end': 27,\n",
       " 'mod': 64,\n",
       " 'listen': 58,\n",
       " 'born': 14,\n",
       " 'september': 96,\n",
       " 'is': 53,\n",
       " 'an': 5,\n",
       " 'indian': 49,\n",
       " 'politician': 79,\n",
       " 'who': 119,\n",
       " 'has': 37,\n",
       " 'served': 97,\n",
       " 'as': 7,\n",
       " 'the': 108,\n",
       " 'th': 107,\n",
       " 'prime': 81,\n",
       " 'minister': 63,\n",
       " 'of': 72,\n",
       " 'india': 48,\n",
       " 'since': 100,\n",
       " 'may': 61,\n",
       " 'was': 115,\n",
       " 'chief': 16,\n",
       " 'gujarat': 35,\n",
       " 'from': 31,\n",
       " 'to': 110,\n",
       " 'and': 6,\n",
       " 'member': 62,\n",
       " 'parliament': 77,\n",
       " 'mp': 66,\n",
       " 'for': 29,\n",
       " 'varanasi': 113,\n",
       " 'he': 38,\n",
       " 'bharatiya': 12,\n",
       " 'janata': 54,\n",
       " 'party': 78,\n",
       " 'bjp': 13,\n",
       " 'rashtriya': 86,\n",
       " 'swayamsevak': 105,\n",
       " 'sangh': 92,\n",
       " 'rss': 91,\n",
       " 'right': 89,\n",
       " 'wing': 121,\n",
       " 'hindu': 45,\n",
       " 'nationalist': 69,\n",
       " 'paramilitary': 76,\n",
       " 'volunteer': 114,\n",
       " 'organisation': 74,\n",
       " 'longest': 59,\n",
       " 'serving': 98,\n",
       " 'outside': 75,\n",
       " 'national': 68,\n",
       " 'congress': 18,\n",
       " 'raised': 84,\n",
       " 'in': 47,\n",
       " 'vadnagar': 112,\n",
       " 'northeastern': 70,\n",
       " 'where': 118,\n",
       " 'completed': 17,\n",
       " 'his': 46,\n",
       " 'secondary': 93,\n",
       " 'education': 24,\n",
       " 'introduced': 52,\n",
       " 'at': 9,\n",
       " 'age': 4,\n",
       " 'eight': 25,\n",
       " 'account': 1,\n",
       " 'helping': 40,\n",
       " 'father': 28,\n",
       " 'sell': 95,\n",
       " 'tea': 106,\n",
       " 'railway': 83,\n",
       " 'station': 104,\n",
       " 'not': 71,\n",
       " 'been': 11,\n",
       " 'reliably': 87,\n",
       " 'corroborated': 19,\n",
       " 'married': 60,\n",
       " 'jashodaben': 55,\n",
       " 'whom': 120,\n",
       " 'abandoned': 0,\n",
       " 'soon': 102,\n",
       " 'after': 3,\n",
       " 'only': 73,\n",
       " 'publicly': 82,\n",
       " 'acknowledging': 2,\n",
       " 'her': 41,\n",
       " 'four': 30,\n",
       " 'decades': 21,\n",
       " 'later': 56,\n",
       " 'when': 117,\n",
       " 'legally': 57,\n",
       " 'required': 88,\n",
       " 'do': 23,\n",
       " 'so': 101,\n",
       " 'became': 10,\n",
       " 'full': 32,\n",
       " 'time': 109,\n",
       " 'worker': 123,\n",
       " 'state': 103,\n",
       " 'emergency': 26,\n",
       " 'declared': 22,\n",
       " 'by': 15,\n",
       " 'indira': 50,\n",
       " 'gandhi': 33,\n",
       " 'went': 116,\n",
       " 'into': 51,\n",
       " 'hiding': 42,\n",
       " 'assigned': 8,\n",
       " 'him': 44,\n",
       " 'held': 39,\n",
       " 'several': 99,\n",
       " 'positions': 80,\n",
       " 'within': 122,\n",
       " 'hierarchy': 43,\n",
       " 'until': 111,\n",
       " 'rising': 90,\n",
       " 'rank': 85,\n",
       " 'general': 34,\n",
       " 'secretary': 94}"
      ]
     },
     "execution_count": 68,
     "metadata": {},
     "output_type": "execute_result"
    }
   ],
   "source": [
    "cv.vocabulary_"
   ]
  },
  {
   "cell_type": "code",
   "execution_count": 69,
   "metadata": {},
   "outputs": [
    {
     "ename": "NameError",
     "evalue": "name 'X' is not defined",
     "output_type": "error",
     "traceback": [
      "\u001b[1;31m---------------------------------------------------------------------------\u001b[0m",
      "\u001b[1;31mNameError\u001b[0m                                 Traceback (most recent call last)",
      "Cell \u001b[1;32mIn[69], line 1\u001b[0m\n\u001b[1;32m----> 1\u001b[0m X[\u001b[39m0\u001b[39m]\u001b[39m.\u001b[39mtoarray()\n",
      "\u001b[1;31mNameError\u001b[0m: name 'X' is not defined"
     ]
    }
   ],
   "source": [
    "x[0].toarray()"
   ]
  },
  {
   "cell_type": "code",
   "execution_count": null,
   "metadata": {},
   "outputs": [],
   "source": []
  }
 ],
 "metadata": {
  "kernelspec": {
   "display_name": "Python 3",
   "language": "python",
   "name": "python3"
  },
  "language_info": {
   "codemirror_mode": {
    "name": "ipython",
    "version": 3
   },
   "file_extension": ".py",
   "mimetype": "text/x-python",
   "name": "python",
   "nbconvert_exporter": "python",
   "pygments_lexer": "ipython3",
   "version": "3.10.11"
  },
  "orig_nbformat": 4
 },
 "nbformat": 4,
 "nbformat_minor": 2
}
